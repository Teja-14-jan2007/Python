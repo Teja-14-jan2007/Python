{
  "nbformat": 4,
  "nbformat_minor": 0,
  "metadata": {
    "colab": {
      "provenance": [],
      "authorship_tag": "ABX9TyMRYXDgA24ZGDccyfbN1TCQ",
      "include_colab_link": true
    },
    "kernelspec": {
      "name": "python3",
      "display_name": "Python 3"
    },
    "language_info": {
      "name": "python"
    }
  },
  "cells": [
    {
      "cell_type": "markdown",
      "metadata": {
        "id": "view-in-github",
        "colab_type": "text"
      },
      "source": [
        "<a href=\"https://colab.research.google.com/github/Teja-14-jan2007/Python/blob/main/Untitled29.ipynb\" target=\"_parent\"><img src=\"https://colab.research.google.com/assets/colab-badge.svg\" alt=\"Open In Colab\"/></a>"
      ]
    },
    {
      "cell_type": "markdown",
      "source": [
        "prime or not"
      ],
      "metadata": {
        "id": "mO1Bl2GTz9_l"
      }
    },
    {
      "cell_type": "code",
      "execution_count": 13,
      "metadata": {
        "colab": {
          "base_uri": "https://localhost:8080/"
        },
        "id": "B_noM9gSz3Jo",
        "outputId": "43825a62-e0fa-4afa-a0a8-adc3a9355089"
      },
      "outputs": [
        {
          "output_type": "stream",
          "name": "stdout",
          "text": [
            "14\n",
            "prime number\n"
          ]
        }
      ],
      "source": [
        "n=int(input())\n",
        "if(n%2==0):\n",
        "  print(\"prime number\")\n",
        "else:\n",
        "    print(\"not a prime number\")"
      ]
    },
    {
      "cell_type": "code",
      "source": [
        "a=int(input())\n",
        "if a%2==0 and a//1:\n",
        "  print(\"prime number\")\n",
        "else:\n",
        "  print(\"not a prime number\")\n"
      ],
      "metadata": {
        "colab": {
          "base_uri": "https://localhost:8080/"
        },
        "id": "tseg0nKw2lmF",
        "outputId": "426356a7-95fa-41d3-94fc-bcf8d1c45925"
      },
      "execution_count": 15,
      "outputs": [
        {
          "output_type": "stream",
          "name": "stdout",
          "text": [
            "7\n",
            "not a prime number\n"
          ]
        }
      ]
    }
  ]
}