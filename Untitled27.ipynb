{
  "nbformat": 4,
  "nbformat_minor": 0,
  "metadata": {
    "colab": {
      "provenance": [],
      "authorship_tag": "ABX9TyN0ktYE9NuVksLa/pM2Bdlf",
      "include_colab_link": true
    },
    "kernelspec": {
      "name": "python3",
      "display_name": "Python 3"
    },
    "language_info": {
      "name": "python"
    }
  },
  "cells": [
    {
      "cell_type": "markdown",
      "metadata": {
        "id": "view-in-github",
        "colab_type": "text"
      },
      "source": [
        "<a href=\"https://colab.research.google.com/github/Teja-14-jan2007/Python/blob/main/Untitled27.ipynb\" target=\"_parent\"><img src=\"https://colab.research.google.com/assets/colab-badge.svg\" alt=\"Open In Colab\"/></a>"
      ]
    },
    {
      "cell_type": "code",
      "execution_count": 4,
      "metadata": {
        "colab": {
          "base_uri": "https://localhost:8080/"
        },
        "id": "MDYT6gAXoXJP",
        "outputId": "619b156b-6c1a-4cf3-f4fc-18d880f43f2c"
      },
      "outputs": [
        {
          "output_type": "stream",
          "name": "stdout",
          "text": [
            "2.1747985\n"
          ]
        }
      ],
      "source": [
        "km=3.5\n",
        "conv_fact=0.621371\n",
        "miles=km*conv_fact\n",
        "print(miles)"
      ]
    },
    {
      "cell_type": "code",
      "source": [
        "celsius=37.55\n",
        "fahrenheit=(celsius * 1.8)+32\n",
        "print(fahrenheit)"
      ],
      "metadata": {
        "colab": {
          "base_uri": "https://localhost:8080/"
        },
        "id": "FLxRa8rosUaB",
        "outputId": "23adfbac-c049-4cd3-e598-0da8d28e3f2a"
      },
      "execution_count": 9,
      "outputs": [
        {
          "output_type": "stream",
          "name": "stdout",
          "text": [
            "99.59\n"
          ]
        }
      ]
    }
  ]
}